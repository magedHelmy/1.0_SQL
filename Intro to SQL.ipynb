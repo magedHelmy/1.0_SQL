{
 "cells": [
  {
   "cell_type": "markdown",
   "metadata": {
    "ExecuteTime": {
     "end_time": "2018-05-23T06:47:32.319529Z",
     "start_time": "2018-05-23T06:47:32.315539Z"
    }
   },
   "source": [
    "## 1.0 Write SQL Queries to Explore and Understand DataSet"
   ]
  },
  {
   "cell_type": "code",
   "execution_count": null,
   "metadata": {},
   "outputs": [],
   "source": [
    "#Write a SQL query that returns the first 20 majors that either:\n",
    "\n",
    "#have a Median salary greater than or equal to 10,000, or\n",
    "#have less than or equal to 1,000 Unemployed people\n",
    "#Only include the following columns in the results and in this order:\n",
    "\n",
    "#Major\n",
    "#Median\n",
    "#Unemployed\n",
    "\n",
    "'''\n",
    "SELECT Major, Median, Unemployed \n",
    "FROM recent_grads\n",
    "WHERE Median >= 10000 \n",
    "OR unemployed <= 1000 Limit 20;\n",
    "'''\n",
    "\n",
    "#Using multiple functions\n",
    "\n",
    "'''\n",
    "SELECT Major, Major_category, ShareWomen, Unemployment_rate FROM recent_grads\n",
    "WHERE (Major_category = 'Engineering') \n",
    "AND (ShareWomen > 0.5 OR Unemployment_rate < 0.051)\n",
    "ORDER BY ShareWomen DESC;\n",
    "'''"
   ]
  },
  {
   "cell_type": "markdown",
   "metadata": {},
   "source": [
    "## 1.1 Summary Statistics using SQL"
   ]
  },
  {
   "cell_type": "code",
   "execution_count": null,
   "metadata": {},
   "outputs": [],
   "source": [
    "# Alias for visualizaiton\n",
    "#Write a query that returns, in the following order:\n",
    "\n",
    "#the number of rows as Number of Students\n",
    "#the maximum value of Unemployment_rate as Highest Unemployment Rate\n",
    "\n",
    "'''\n",
    "SELECT COUNT(*) 'Number of Students', MAX(Unemployment_rate) 'Highest Unemployment Rate'\n",
    "FROM recent_grads\n",
    "WHERE Major_category = 'Engineering';\n",
    "'''"
   ]
  },
  {
   "cell_type": "code",
   "execution_count": null,
   "metadata": {},
   "outputs": [],
   "source": [
    "'''\n",
    "SELECT COUNT(DISTINCT(Major)) 'unique_majors',\n",
    "COUNT(DISTINCT(Major_category)) 'unique_major_categories',\n",
    "COUNT(DISTINCT(Major_code)) 'unique_major_codes'\n",
    "FROM recent_grads;\n",
    "'''"
   ]
  },
  {
   "cell_type": "code",
   "execution_count": null,
   "metadata": {},
   "outputs": [],
   "source": [
    "# Arthemetic Operation\n",
    "'''\n",
    "SELECT Major, Major_category, (P75th - P25th) 'quartile_spread'\n",
    "FROM recent_grads\n",
    "ORDER BY quartile_spread LIMIT 20;\n",
    "'''"
   ]
  },
  {
   "cell_type": "markdown",
   "metadata": {},
   "source": [
    "## 1.2 Summary Statistics on Group Level"
   ]
  },
  {
   "cell_type": "code",
   "execution_count": null,
   "metadata": {},
   "outputs": [],
   "source": [
    "# Find all of the major categories where the share of graduates with low-wage jobs is greater than .1.\n",
    "\n",
    "'''\n",
    "SELECT Major_category, ROUND(AVG(College_jobs) / AVG(Total), 3) 'share_degree_jobs'\n",
    "FROM recent_grads\n",
    "GROUP BY Major_category\n",
    "HAVING share_degree_jobs < 0.3 ;\n",
    "'''"
   ]
  },
  {
   "cell_type": "code",
   "execution_count": 1,
   "metadata": {
    "ExecuteTime": {
     "end_time": "2018-05-23T11:48:31.120710Z",
     "start_time": "2018-05-23T11:48:31.107178Z"
    }
   },
   "outputs": [
    {
     "data": {
      "text/plain": [
       "\"\\nSELECTS  Major_category, CAST(SUM(Women) as FLOAT) / CAST (SUM(Total) as FLOAT) 'SW'\\nFROM recent_grads\\nGROUP BY Major_category\\nORDER BY SW;\\n\""
      ]
     },
     "execution_count": 1,
     "metadata": {},
     "output_type": "execute_result"
    }
   ],
   "source": [
    "# Using CAST for calculations\n",
    "'''\n",
    "SELECT  Major_category, CAST(SUM(Women) as FLOAT) / CAST (SUM(Total) as FLOAT) 'SW'\n",
    "FROM recent_grads\n",
    "GROUP BY Major_category\n",
    "ORDER BY SW;\n",
    "'''"
   ]
  },
  {
   "cell_type": "markdown",
   "metadata": {},
   "source": [
    "## 1.3 Subqueries in SQL"
   ]
  },
  {
   "cell_type": "code",
   "execution_count": null,
   "metadata": {},
   "outputs": [],
   "source": [
    "# Dynamic Filters to calculate proportions\n",
    "# Now that we have a subquery that calculates the average ratio (of Sample_size to Total), we can return the rows that exceed this average.\n",
    "\n",
    "'''\n",
    "SELECT Major, Major_category, cast(Sample_size as float)/cast(Total as float) ratio \n",
    "FROM recent_grads\n",
    "WHERE ratio > \n",
    "(Select AVG(cast(Sample_size as float)/cast(Total as float)) avg_ratio From recent_grads)\n"
   ]
  },
  {
   "cell_type": "markdown",
   "metadata": {},
   "source": [
    "## 1.4 SQL in Python"
   ]
  },
  {
   "cell_type": "code",
   "execution_count": 2,
   "metadata": {
    "ExecuteTime": {
     "end_time": "2018-05-23T11:49:14.772097Z",
     "start_time": "2018-05-23T11:49:14.766125Z"
    }
   },
   "outputs": [
    {
     "name": "stdout",
     "output_type": "stream",
     "text": [
      "[('PETROLEUM ENGINEERING',), ('MINING AND MINERAL ENGINEERING',), ('METALLURGICAL ENGINEERING',)]\n"
     ]
    }
   ],
   "source": [
    "#Write a query that returns all of the values in the Major column from the recent_grads table.\n",
    "\n",
    "import sqlite3\n",
    "conn = sqlite3.connect(\"jobs.db\")\n",
    "\n",
    "query = \"select Major from recent_grads;\"\n",
    "majors = conn.execute(query).fetchall()\n",
    "print(majors[0:3])\n",
    "\n",
    "conn.close()"
   ]
  }
 ],
 "metadata": {
  "kernelspec": {
   "display_name": "Python 3",
   "language": "python",
   "name": "python3"
  },
  "language_info": {
   "codemirror_mode": {
    "name": "ipython",
    "version": 3
   },
   "file_extension": ".py",
   "mimetype": "text/x-python",
   "name": "python",
   "nbconvert_exporter": "python",
   "pygments_lexer": "ipython3",
   "version": "3.6.5"
  },
  "latex_envs": {
   "LaTeX_envs_menu_present": true,
   "autoclose": false,
   "autocomplete": true,
   "bibliofile": "biblio.bib",
   "cite_by": "apalike",
   "current_citInitial": 1,
   "eqLabelWithNumbers": true,
   "eqNumInitial": 1,
   "hotkeys": {
    "equation": "Ctrl-E",
    "itemize": "Ctrl-I"
   },
   "labels_anchors": false,
   "latex_user_defs": false,
   "report_style_numbering": false,
   "user_envs_cfg": false
  },
  "varInspector": {
   "cols": {
    "lenName": 16,
    "lenType": 16,
    "lenVar": 40
   },
   "kernels_config": {
    "python": {
     "delete_cmd_postfix": "",
     "delete_cmd_prefix": "del ",
     "library": "var_list.py",
     "varRefreshCmd": "print(var_dic_list())"
    },
    "r": {
     "delete_cmd_postfix": ") ",
     "delete_cmd_prefix": "rm(",
     "library": "var_list.r",
     "varRefreshCmd": "cat(var_dic_list()) "
    }
   },
   "types_to_exclude": [
    "module",
    "function",
    "builtin_function_or_method",
    "instance",
    "_Feature"
   ],
   "window_display": false
  }
 },
 "nbformat": 4,
 "nbformat_minor": 2
}
